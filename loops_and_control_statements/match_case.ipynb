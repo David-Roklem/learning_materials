{
 "cells": [
  {
   "cell_type": "markdown",
   "metadata": {},
   "source": [
    "## Оператор match\n",
    "Оператор match — это специализированная версия `if`, которую создали для особых ситуаций.\n",
    "\n",
    "Ниже приведен пример использования операторов `if-else-elif`"
   ]
  },
  {
   "cell_type": "code",
   "execution_count": null,
   "metadata": {},
   "outputs": [],
   "source": [
    "status = input('Введите название статуса: ')\n",
    "\n",
    "if status == 'processing':\n",
    "    print('Делаем раз')\n",
    "elif status == 'paid':\n",
    "    print('Делаем два')\n",
    "elif status == 'new':\n",
    "    print('Делаем три')\n",
    "else:\n",
    "    print('Делаем четыре')"
   ]
  },
  {
   "cell_type": "markdown",
   "metadata": {},
   "source": [
    "Весь код выше можно переписать на использование операторов `match-case`:"
   ]
  },
  {
   "cell_type": "code",
   "execution_count": null,
   "metadata": {},
   "outputs": [],
   "source": [
    "status = input('Введите название статуса: ')\n",
    "\n",
    "match status:\n",
    "    case 'processing':\n",
    "        print('Делаем раз')\n",
    "    case 'paid':\n",
    "        print('Делаем два')\n",
    "    case 'new':\n",
    "        print('Делаем три')\n",
    "    case _:\n",
    "        print('Делаем четыре')"
   ]
  },
  {
   "cell_type": "markdown",
   "metadata": {},
   "source": [
    "Внутри `match` допустим только тот синтаксис, который показан выше. Другими словами, там можно использовать `case`. А вот внутри каждого `case` ситуация другая. Здесь можно выполнять любой произвольный код:"
   ]
  },
  {
   "cell_type": "code",
   "execution_count": null,
   "metadata": {},
   "outputs": [],
   "source": [
    "count = int(input('Введите значение счёта: '))  # ф-я input() преобразует переданные значения к строке,\n",
    "                                                # поэтому необходимо введенную цифру явно привести к int\n",
    "\n",
    "match count:\n",
    "    case 1:\n",
    "        print('Счет равен 1')\n",
    "    case 2:\n",
    "        print('Счет равен 2')\n",
    "    case _:\n",
    "        print('Счет равен чему-то другому')"
   ]
  }
 ],
 "metadata": {
  "kernelspec": {
   "display_name": ".venv",
   "language": "python",
   "name": "python3"
  },
  "language_info": {
   "codemirror_mode": {
    "name": "ipython",
    "version": 3
   },
   "file_extension": ".py",
   "mimetype": "text/x-python",
   "name": "python",
   "nbconvert_exporter": "python",
   "pygments_lexer": "ipython3",
   "version": "3.11.5"
  }
 },
 "nbformat": 4,
 "nbformat_minor": 2
}

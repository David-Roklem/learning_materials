{
 "cells": [
  {
   "cell_type": "markdown",
   "metadata": {},
   "source": [
    "## Оператор match\n",
    "Оператор match — это специализированная версия `if`, которую создали для особых ситуаций.\n",
    "\n",
    "Ниже приведен пример использования операторов `if-else-elif`"
   ]
  },
  {
   "cell_type": "code",
   "execution_count": null,
   "metadata": {},
   "outputs": [],
   "source": [
    "status = input('Введите название статуса: ')\n",
    "\n",
    "if status == 'processing':\n",
    "    print('Делаем раз')\n",
    "elif status == 'paid':\n",
    "    print('Делаем два')\n",
    "elif status == 'new':\n",
    "    print('Делаем три')\n",
    "else:\n",
    "    print('Делаем четыре')"
   ]
  },
  {
   "cell_type": "markdown",
   "metadata": {},
   "source": [
    "Весь код выше можно переписать на использование операторов `match-case`:"
   ]
  },
  {
   "cell_type": "code",
   "execution_count": null,
   "metadata": {},
   "outputs": [],
   "source": [
    "status = input('Введите название статуса: ')\n",
    "\n",
    "match status:\n",
    "    case 'processing':\n",
    "        print('Делаем раз')\n",
    "    case 'paid':\n",
    "        print('Делаем два')\n",
    "    case 'new':\n",
    "        print('Делаем три')\n",
    "    case _:\n",
    "        print('Делаем четыре')"
   ]
  },
  {
   "cell_type": "markdown",
   "metadata": {},
   "source": [
    "Внутри `match` допустим только тот синтаксис, который показан выше. Другими словами, там можно использовать `case`. А вот внутри каждого `case` ситуация другая. Здесь можно выполнять любой произвольный код:"
   ]
  },
  {
   "cell_type": "code",
   "execution_count": null,
   "metadata": {},
   "outputs": [],
   "source": [
    "count = int(input('Введите значение счёта: '))  # ф-я input() преобразует переданные значения к строке,\n",
    "                                                # поэтому необходимо введенную цифру явно привести к int\n",
    "\n",
    "match count:\n",
    "    case 1:\n",
    "        print('Счет равен 1')\n",
    "    case 2:\n",
    "        print('Счет равен 2')\n",
    "    case _:\n",
    "        print('Счет равен чему-то другому')"
   ]
  },
  {
   "cell_type": "markdown",
   "metadata": {},
   "source": [
    "### Два способа вернуть результат\n",
    "Иногда результат, полученный внутри `case` — это конец выполнения функции, которая содержит `match`. В таком случае его нужно как-то вернуть наружу. Есть два способа для решения этой задачи. **Первый**:\n",
    "\n",
    "Создать переменную перед `match`, заполнить ее в `case` и затем в конце вернуть значение этой переменной наружу:"
   ]
  },
  {
   "cell_type": "code",
   "execution_count": 12,
   "metadata": {},
   "outputs": [
    {
     "name": "stdout",
     "output_type": "stream",
     "text": [
      "one\n",
      "two\n",
      "None\n"
     ]
    }
   ],
   "source": [
    "def count_items(count):\n",
    "    # Объявляем переменную\n",
    "    result = ''\n",
    "\n",
    "    # Заполняем\n",
    "    match count:\n",
    "        case 1:\n",
    "            result = 'one'\n",
    "        case 2:\n",
    "            result = 'two'\n",
    "        case _:\n",
    "            result = None\n",
    "\n",
    "    # Возвращаем\n",
    "    return result\n",
    "\n",
    "\n",
    "print(count_items(1))\n",
    "print(count_items(2))\n",
    "print(count_items(2323))"
   ]
  },
  {
   "cell_type": "markdown",
   "metadata": {},
   "source": [
    "**Второй**. Вместо создания переменной при работе с case можно делать обычный возврат из функции:"
   ]
  },
  {
   "cell_type": "code",
   "execution_count": 13,
   "metadata": {},
   "outputs": [
    {
     "name": "stdout",
     "output_type": "stream",
     "text": [
      "one\n",
      "two\n",
      "None\n"
     ]
    }
   ],
   "source": [
    "def count_items(count):\n",
    "    match count:\n",
    "        case 1:\n",
    "            return 'one'\n",
    "        case 2:\n",
    "            return 'two'\n",
    "        case _:\n",
    "            return None\n",
    "\n",
    "\n",
    "print(count_items(1))\n",
    "print(count_items(2))\n",
    "print(count_items(2323))"
   ]
  },
  {
   "cell_type": "markdown",
   "metadata": {},
   "source": [
    "### Несколько значений в case\n",
    "С помощью оператора | (или) можно объединять несколько значений в один `case`, чтобы выполнять одну и ту же операцию ветвления. Например:"
   ]
  },
  {
   "cell_type": "code",
   "execution_count": 16,
   "metadata": {},
   "outputs": [
    {
     "name": "stdout",
     "output_type": "stream",
     "text": [
      "Starting...\n",
      "Stopping...\n",
      "Pausing...\n",
      "Invalid input\n"
     ]
    }
   ],
   "source": [
    "def match_input(input):\n",
    "    match input:\n",
    "        case 'start' | 'begin':\n",
    "            print('Starting...')\n",
    "        case 'stop' | 'end':\n",
    "            print('Stopping...')\n",
    "        case 'pause':\n",
    "            print('Pausing...')\n",
    "        case _:\n",
    "            print('Invalid input')\n",
    "\n",
    "match_input('begin')  # => Starting...\n",
    "match_input('stop')  # => Stopping...\n",
    "match_input('pause')  # => Pausing...\n",
    "match_input('test')  # => Invalid input"
   ]
  },
  {
   "cell_type": "markdown",
   "metadata": {},
   "source": [
    "### Проверка типов\n",
    "В операторе `case` можно использовать функции приведения типов, например, `str()`, `int()`. Это нужно, чтобы проверять тип переменной после `match`:"
   ]
  },
  {
   "cell_type": "code",
   "execution_count": 17,
   "metadata": {},
   "outputs": [
    {
     "name": "stdout",
     "output_type": "stream",
     "text": [
      "It is a string: hello\n",
      "It is an integer: 123\n",
      "I don't know this type\n"
     ]
    }
   ],
   "source": [
    "def get_type(val):\n",
    "    match val:\n",
    "        case str(val):\n",
    "            print(f'It is a string: {val}')\n",
    "        case int(val):\n",
    "            print(f'It is an integer: {val}')\n",
    "        case _:\n",
    "            print(\"I don't know this type\")\n",
    "\n",
    "get_type('hello')  # => It is a string: hello\n",
    "get_type(123)  # => It is an integer: 123\n",
    "get_type(None)  # => I don't know this type"
   ]
  }
 ],
 "metadata": {
  "kernelspec": {
   "display_name": ".venv",
   "language": "python",
   "name": "python3"
  },
  "language_info": {
   "codemirror_mode": {
    "name": "ipython",
    "version": 3
   },
   "file_extension": ".py",
   "mimetype": "text/x-python",
   "name": "python",
   "nbconvert_exporter": "python",
   "pygments_lexer": "ipython3",
   "version": "3.11.5"
  }
 },
 "nbformat": 4,
 "nbformat_minor": 2
}

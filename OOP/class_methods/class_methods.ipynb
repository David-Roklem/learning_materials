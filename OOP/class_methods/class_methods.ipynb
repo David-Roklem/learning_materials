{
 "cells": [
  {
   "cell_type": "markdown",
   "metadata": {},
   "source": [
    "## Class methods\n",
    "\n",
    "Обсудим `class` методы на примере фигурок из вселенной \"Властелин колец\" :))\n",
    "\n",
    "Ниже пример типичного применения ООП: с помощью класса мы создаем экземпляры (объекты) и весь акцент на разнообразии действий, которые можно произвести с последними. Однако бывают ситуации, когда есть информация, которая связана с более чем одним экземпляром.\n"
   ]
  },
  {
   "cell_type": "code",
   "execution_count": 3,
   "metadata": {},
   "outputs": [
    {
     "name": "stdout",
     "output_type": "stream",
     "text": [
      "Гендальф: высокий, серобородый, добродушный\n"
     ]
    }
   ],
   "source": [
    "class LOTRFigures:\n",
    "\n",
    "    def __init__(self, name, description):\n",
    "        self.name = name\n",
    "        self.description = description\n",
    "\n",
    "    def describe_figure(self):\n",
    "        msg = f\"{self.name}: {self.description}\"\n",
    "        print(msg)\n",
    "\n",
    "tree = LOTRFigures(\"Гендальф\", \"высокий, серобородый, добродушный\")\n",
    "tree.describe_figure()"
   ]
  },
  {
   "cell_type": "markdown",
   "metadata": {},
   "source": [
    "#### Коллекция фигурок"
   ]
  },
  {
   "cell_type": "code",
   "execution_count": 5,
   "metadata": {},
   "outputs": [
    {
     "name": "stdout",
     "output_type": "stream",
     "text": [
      "Гендальф: высокий, серобородый, добродушный\n",
      "Арагорн: темноволосый, в оборванной одежде, будущий король\n",
      "Фродо: низкорослый, кучерявый, гедонист\n"
     ]
    }
   ],
   "source": [
    "figures = []\n",
    "\n",
    "figure = LOTRFigures(\"Гендальф\", \"высокий, серобородый, добродушный\")\n",
    "figures.append(tree)\n",
    "\n",
    "figure = LOTRFigures(\"Арагорн\", \"темноволосый, в оборванной одежде, будущий король\")\n",
    "figures.append(figure)\n",
    "\n",
    "figure = LOTRFigures(\"Фродо\", \"низкорослый, кучерявый, гедонист\")\n",
    "figures.append(figure)\n",
    "\n",
    "for figure in figures:\n",
    "    figure.describe_figure()"
   ]
  },
  {
   "cell_type": "markdown",
   "metadata": {},
   "source": [
    "Представьте, что вы на самом деле используете этот класс для отслеживания фигурок героев. Возможно, вам захочется отслеживать, сколько этих экземпляров было создано.\n",
    "\n",
    "Количество фигурок, добавленных в коллекцию, - это информация, относящаяся к классу, но не связанная с каким-либо конкретным экземпляром. Когда у вас есть подобная информация, ее следует хранить в атрибуте, связанном с общим классом, а не с каким-либо экземпляром.\n",
    "\n",
    "Ниже пример того, как это можно сделать:"
   ]
  },
  {
   "cell_type": "code",
   "execution_count": 8,
   "metadata": {},
   "outputs": [
    {
     "name": "stdout",
     "output_type": "stream",
     "text": [
      "Гендальф: высокий, серобородый, добродушный\n",
      "У нас есть 3 фигурки в коллекции.\n"
     ]
    }
   ],
   "source": [
    "class LOTRFigures:\n",
    "\n",
    "    num_figures = 0\n",
    "\n",
    "    @classmethod\n",
    "    def count_figures(cls):\n",
    "        msg = f\"У нас есть {cls.num_figures} фигурки в коллекции.\"\n",
    "        print(msg)\n",
    "\n",
    "    def __init__(self, name, description):\n",
    "        self.name = name\n",
    "        self.description = description\n",
    "\n",
    "        LOTRFigures.num_figures += 1\n",
    "\n",
    "    def describe_figure(self):\n",
    "        ...\n",
    "\n",
    "figures = []\n",
    "\n",
    "figure = LOTRFigures(\"Гендальф\", \"высокий, серобородый, добродушный\")\n",
    "figures.append(tree)\n",
    "\n",
    "figure = LOTRFigures(\"Арагорн\", \"темноволосый, в оборванной одежде, будущий король\")\n",
    "figures.append(figure)\n",
    "\n",
    "figure = LOTRFigures(\"Фродо\", \"низкорослый, кучерявый, гедонист\")\n",
    "figures.append(figure)\n",
    "\n",
    "for figure in figures:\n",
    "    figure.describe_figure()\n",
    "\n",
    "LOTRFigures.count_figures()"
   ]
  }
 ],
 "metadata": {
  "kernelspec": {
   "display_name": ".venv",
   "language": "python",
   "name": "python3"
  },
  "language_info": {
   "codemirror_mode": {
    "name": "ipython",
    "version": 3
   },
   "file_extension": ".py",
   "mimetype": "text/x-python",
   "name": "python",
   "nbconvert_exporter": "python",
   "pygments_lexer": "ipython3",
   "version": "3.11.5"
  }
 },
 "nbformat": 4,
 "nbformat_minor": 2
}

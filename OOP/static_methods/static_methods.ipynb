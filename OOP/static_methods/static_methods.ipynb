{
 "cells": [
  {
   "cell_type": "code",
   "execution_count": 3,
   "metadata": {},
   "outputs": [
    {
     "name": "stdout",
     "output_type": "stream",
     "text": [
      "Aconcagua is 6,961 meters tall.\n"
     ]
    }
   ],
   "source": [
    "class Mountain:\n",
    "\n",
    "    def __init__(self, name, elev_meters=0):\n",
    "        self.name = name\n",
    "        self.elev_meters = elev_meters\n",
    "\n",
    "    def describe_mountain(self):\n",
    "        msg = f\"{self.name} is {self.elev_meters:,} meters tall.\"\n",
    "        print(msg)\n",
    "\n",
    "my_mountain = Mountain(\"Aconcagua\", 6961)\n",
    "my_mountain.describe_mountain()"
   ]
  },
  {
   "cell_type": "markdown",
   "metadata": {},
   "source": [
    "Добавим дисклеймер, предупреждающий об опасностях при восхождениях на горные вершины"
   ]
  },
  {
   "cell_type": "code",
   "execution_count": null,
   "metadata": {},
   "outputs": [],
   "source": [
    "class Mountain:\n",
    "\n",
    "    def __init__(self, name, elev_meters=0):\n",
    "        ...\n",
    "\n",
    "    def describe_mountain(self):\n",
    "        ...\n",
    "\n",
    "    def show_disclaimer(self):\n",
    "        msg = \"\\nClimbing steep mountains can be dangerous.\"\n",
    "        msg += \" If you are new to climbing,\"\n",
    "        msg += \" please seek out instruction from\"\n",
    "        msg += \" a qualified guide or an\"\n",
    "        msg += \" experienced mentor.\"\n",
    "        print(msg)\n",
    "\n",
    "my_mountain = Mountain(\"Aconcagua\", 6961)\n",
    "my_mountain.describe_mountain()\n",
    "\n",
    "my_mountain.show_disclaimer()"
   ]
  },
  {
   "cell_type": "markdown",
   "metadata": {},
   "source": [
    "Как видно, метод `show_disclaimer` принимает первым аргументом `self`, как и ожидается от метода класса. Однако он не находит применения в теле метода, т.к. нет необходимости обращаться к специфической информации о классе - ведь предупреждение будет одинаково и неизменно для любого экземпляра класса `Mountain`.\n",
    "\n",
    "Для иллюстрации ниже, уберем аргумент `self` из метода `show_disclaimer` и посмотрим, что произойдет в этом случае:"
   ]
  },
  {
   "cell_type": "code",
   "execution_count": 7,
   "metadata": {},
   "outputs": [
    {
     "ename": "TypeError",
     "evalue": "Mountain.show_disclaimer() takes 0 positional arguments but 1 was given",
     "output_type": "error",
     "traceback": [
      "\u001b[0;31m---------------------------------------------------------------------------\u001b[0m",
      "\u001b[0;31mTypeError\u001b[0m                                 Traceback (most recent call last)",
      "Cell \u001b[0;32mIn[7], line 16\u001b[0m\n\u001b[1;32m     13\u001b[0m my_mountain \u001b[38;5;241m=\u001b[39m Mountain(\u001b[38;5;124m\"\u001b[39m\u001b[38;5;124mAconcagua\u001b[39m\u001b[38;5;124m\"\u001b[39m, \u001b[38;5;241m6961\u001b[39m)\n\u001b[1;32m     14\u001b[0m my_mountain\u001b[38;5;241m.\u001b[39mdescribe_mountain()\n\u001b[0;32m---> 16\u001b[0m \u001b[43mmy_mountain\u001b[49m\u001b[38;5;241;43m.\u001b[39;49m\u001b[43mshow_disclaimer\u001b[49m\u001b[43m(\u001b[49m\u001b[43m)\u001b[49m\n",
      "\u001b[0;31mTypeError\u001b[0m: Mountain.show_disclaimer() takes 0 positional arguments but 1 was given"
     ]
    }
   ],
   "source": [
    "class Mountain:\n",
    "\n",
    "    def __init__(self, name, elev_meters=0):\n",
    "        ...\n",
    "\n",
    "    def describe_mountain(self):\n",
    "        ...\n",
    "\n",
    "    def show_disclaimer():\n",
    "        msg = \"\\nClimbing steep mountains can be dangerous.\"\n",
    "        print(msg)\n",
    "\n",
    "my_mountain = Mountain(\"Aconcagua\", 6961)\n",
    "my_mountain.describe_mountain()\n",
    "\n",
    "my_mountain.show_disclaimer()"
   ]
  },
  {
   "cell_type": "markdown",
   "metadata": {},
   "source": [
    "Как и ожидалось, возникло исключение, обращающее наше внимание на то, что в метод `show_disclaimer()` был передан лишний аргумент (это подспудно делает интерпретатор)"
   ]
  },
  {
   "cell_type": "markdown",
   "metadata": {},
   "source": [
    "# Static methods\n",
    "Довольно часто возникает необходимость написать методы, которые не используют информацию, связанную с конкретным экземпляром класса. В этих случаях надо как-то подсказать интерпретатору, что передавать ссылку на экземпляр (self) в метод не нужно. Для этого применяется декоратор `@staticmethod`"
   ]
  },
  {
   "cell_type": "code",
   "execution_count": 9,
   "metadata": {},
   "outputs": [],
   "source": [
    "class Mountain:\n",
    "\n",
    "    def __init__(self, name, elev_meters=0):\n",
    "        ...\n",
    "\n",
    "    def describe_mountain(self):\n",
    "        ...\n",
    "\n",
    "    @staticmethod\n",
    "    def show_disclaimer():\n",
    "        msg = \"\\nClimbing steep mountains can be dangerous.\"\n",
    "        ...\n",
    "\n",
    "aconcagua = Mountain(\"Aconcagua\", 6961)\n",
    "aconcagua.describe_mountain()\n",
    "\n",
    "aconcagua.show_disclaimer()"
   ]
  },
  {
   "cell_type": "markdown",
   "metadata": {},
   "source": [
    "Как видно выше, исключение не возникает, если снабдить метод `show_disclaimer` декоратором `@staticmethod`, который сообщает интерпретатору, что передавать self в качестве аргумента методу не нужно.\n",
    "Поскольку статический метод не нуждается в информации, ассоциированной с конкретным экземпляром класса, его можно вызывать напрямую от класса (`Mountain.show_disclaimer()`), а не от его инстанса (`Mountain().show_disclaimer()`)"
   ]
  },
  {
   "cell_type": "code",
   "execution_count": 12,
   "metadata": {},
   "outputs": [
    {
     "name": "stdout",
     "output_type": "stream",
     "text": [
      "\n",
      "Climbing steep mountains can be dangerous. If you are new to climbing, please seek out instruction from a qualified guide or an experienced mentor.\n"
     ]
    }
   ],
   "source": [
    "class Mountain:\n",
    "\n",
    "    def __init__(self, name, elev_meters=0):\n",
    "        ...\n",
    "\n",
    "    def describe_mountain(self):\n",
    "        ...\n",
    "\n",
    "    @staticmethod\n",
    "    def show_disclaimer():\n",
    "        msg = \"\\nClimbing steep mountains can be dangerous.\"\n",
    "        msg += \" If you are new to climbing,\"\n",
    "        msg += \" please seek out instruction from\"\n",
    "        msg += \" a qualified guide or an\"\n",
    "        msg += \" experienced mentor.\"\n",
    "        print(msg)\n",
    "\n",
    "Mountain.show_disclaimer()"
   ]
  }
 ],
 "metadata": {
  "kernelspec": {
   "display_name": ".venv",
   "language": "python",
   "name": "python3"
  },
  "language_info": {
   "codemirror_mode": {
    "name": "ipython",
    "version": 3
   },
   "file_extension": ".py",
   "mimetype": "text/x-python",
   "name": "python",
   "nbconvert_exporter": "python",
   "pygments_lexer": "ipython3",
   "version": "3.11.5"
  }
 },
 "nbformat": 4,
 "nbformat_minor": 2
}

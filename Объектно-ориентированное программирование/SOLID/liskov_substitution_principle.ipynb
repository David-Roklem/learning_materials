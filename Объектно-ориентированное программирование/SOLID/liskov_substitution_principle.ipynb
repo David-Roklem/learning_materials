{
 "cells": [
  {
   "cell_type": "markdown",
   "metadata": {},
   "source": [
    "# Принцип подстановки Барбары Лисков"
   ]
  },
  {
   "cell_type": "markdown",
   "metadata": {},
   "source": [
    "Принцип подстановки Лисков (Liskov Substitution Principle — LSP) — еще одна важная концепция. Он предполагает, что объекты подклассов должны быть полностью взаимозаменяемы с объектами своих родительских классов, т. е. любой дочерний класс должен вести себя точно так же, как родительский класс. Это также известно как «полиморфизм подтипов» и помогает разработчикам создавать более управляемый и надежный код."
   ]
  },
  {
   "cell_type": "markdown",
   "metadata": {},
   "source": [
    "К сожалению, единого и однозначного понимания данного принципа среди различных авторов нет. При попытке обратиться к определению, наиболее близкому к первоисточнику ([статья_в_википедии](https://clck.ru/3EjVuV)), получим следующее определение:\n",
    "> Пусть q(x) является свойством, верным относительно объектов x некоторого типа T. Тогда q(y) также должно быть верным для объектов y типа S, где S является подтипом типа T.\n",
    "\n",
    "Говоря на более понятном программистам языке, *функции, которые используют базовый тип, должны иметь возможность использовать подтипы базового типа, не зная об этом.* Иными словами, если у нас есть дочерний класс (класс-наследник), то мы можем подставить его вместо родительского (класса-предка) и при этом ничего не сломается. Т.е. наследник должен расширять функционал базового класса, а не полностью их переопределять"
   ]
  },
  {
   "cell_type": "markdown",
   "metadata": {},
   "source": [
    "Разберем следующий код:"
   ]
  },
  {
   "cell_type": "code",
   "execution_count": null,
   "metadata": {},
   "outputs": [],
   "source": [
    "class Vehicle:\n",
    "    def __init__(self, name, speed):\n",
    "        self.name = name\n",
    "        self.speed = speed\n",
    "\n",
    "    def get_name(self):\n",
    "        return f\"The vehicle name is {self.name}\"\n",
    "\n",
    "    def get_speed(self):\n",
    "        return f\"The vehicle speed is {self.speed}\"\n",
    "\n",
    "    def start_engine(self):\n",
    "        return \"Start the engine\"\n",
    "\n",
    "\n",
    "class Car(Vehicle):\n",
    "    pass\n",
    "\n",
    "\n",
    "class Bicycle(Vehicle):\n",
    "    pass"
   ]
  },
  {
   "cell_type": "markdown",
   "metadata": {},
   "source": [
    "У нас есть класс `Vehicle` в качестве базового (родительского), и есть также два подкласса (дочерних) - `Car` и `Bicycle`. Класс `Bicycle`, подразумевающий реализацию классического велосипеда без мотора, по идее, не должен содержать в себе метод `start_engine`, однако наследование от класса `Vehicle` это подразумевает. Данную дилемму можно разрешить иной реализацией:"
   ]
  },
  {
   "cell_type": "code",
   "execution_count": 1,
   "metadata": {},
   "outputs": [],
   "source": [
    "class Vehicle:\n",
    "    def __init__(self, name, speed):\n",
    "        self.name = name\n",
    "        self.speed = speed\n",
    "\n",
    "    def get_name(self):\n",
    "        return f\"The vehicle name is {self.name}\"\n",
    "\n",
    "    def get_speed(self):\n",
    "        return f\"The vehicle speed is {self.speed}\"\n",
    "\n",
    "\n",
    "class VehicleWithEngine(Vehicle):\n",
    "    def start_engine(self):\n",
    "        return \"Start the engine\"\n",
    "\n",
    "\n",
    "class VehicleWithoutEngine(Vehicle):\n",
    "    def start_moving(self):\n",
    "        return \"Start moving\"\n",
    "\n",
    "\n",
    "class Car(VehicleWithEngine):\n",
    "    def start_engine(self):\n",
    "        pass\n",
    "\n",
    "\n",
    "class Bicycle(VehicleWithoutEngine):\n",
    "    def start_moving(self):\n",
    "        pass"
   ]
  },
  {
   "cell_type": "markdown",
   "metadata": {},
   "source": [
    "Таким образом, для соответствия принципу LSP мы создали 2 промежуточных базовых класса, реализующих варианты транспортных средств с двигателями и без оных: `VehicleWithEngine` и `VehicleWithoutEngine`, а дочерние классы `Car` и `Bicycle` наследуются, соответственно, от них"
   ]
  },
  {
   "cell_type": "markdown",
   "metadata": {},
   "source": [
    "## Резюмируя\n",
    "Принцип подстановки Лисков гласит, что любой экземпляр подтипа должен иметь возможность заменить экземпляр своего базового типа. Это означает, что подтипы не должны нарушать поведение своих базовых типов. По сути, базовый класс и любые подклассы должны быть взаимозаменяемыми без нарушения кода."
   ]
  }
 ],
 "metadata": {
  "kernelspec": {
   "display_name": ".venv",
   "language": "python",
   "name": "python3"
  },
  "language_info": {
   "codemirror_mode": {
    "name": "ipython",
    "version": 3
   },
   "file_extension": ".py",
   "mimetype": "text/x-python",
   "name": "python",
   "nbconvert_exporter": "python",
   "pygments_lexer": "ipython3",
   "version": "3.11.5"
  }
 },
 "nbformat": 4,
 "nbformat_minor": 2
}

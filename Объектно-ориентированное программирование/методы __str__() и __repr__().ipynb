{
 "cells": [
  {
   "cell_type": "markdown",
   "metadata": {},
   "source": [
    "Методы `__str__()` и `__repr__()` относятся к так называемым \"dunder-методам\" (\"double underscores\"). Основное назначение таких методов - перегрузка операторов. Под операторами в данном контексте понимаются не только знаки +, -, *, /, обеспечивающие операции сложения, вычитания и др., но также специфика синтаксиса языка, обеспечивающая операции создания объекта, вызова объекта как функции, обращение к элементу объекта по индексу, вывод объекта и другое.\n",
    "\n",
    "Метод `__str__()` применяется для вывода информации в \"юзер-френдли\" виде, `__repr__()` нужен больше для отладочных задач или для воссоздания объекта."
   ]
  },
  {
   "cell_type": "markdown",
   "metadata": {},
   "source": [
    "## Метод `__str__()`"
   ]
  },
  {
   "cell_type": "markdown",
   "metadata": {},
   "source": [
    "Рассмотрим пример класс следующего класса:"
   ]
  },
  {
   "cell_type": "code",
   "execution_count": 1,
   "metadata": {},
   "outputs": [
    {
     "name": "stdout",
     "output_type": "stream",
     "text": [
      "<__main__.LOTRFigures object at 0x7fc336d231d0>\n"
     ]
    }
   ],
   "source": [
    "class LOTRFigures:\n",
    "\n",
    "    def __init__(self, name, description):\n",
    "        self.name = name\n",
    "        self.description = description\n",
    "\n",
    "    def describe_figure(self):\n",
    "        msg = f\"{self.name}: {self.description}\"\n",
    "        print(msg)\n",
    "\n",
    "figure = LOTRFigures(\"Гендальф\", \"высокий, серобородый, добродушный\")\n",
    "# figure.describe_figure()\n",
    "print(figure)"
   ]
  },
  {
   "cell_type": "markdown",
   "metadata": {},
   "source": [
    "Вывод на печать экземпляра `figure` возвращает нам `<__main__.LOTRFigures object at 0x7fc336d231d0>`. В нем содержится следующая информация:\n",
    "- имя файла, в котором произошел запуск программы (`__main__` - это общее название для любых файлов(модулей), в которых происходит запуск кода);\n",
    "- имя класса, который был использован для создания экземпляра (`LOTRFigures`);\n",
    "- адрес ячейки(ек) памяти, где хранится объект (`0x7fc336d231d0`)."
   ]
  },
  {
   "cell_type": "markdown",
   "metadata": {},
   "source": [
    "Такой вывод может быть полезен при отладке кода, однако для приведения его в более удобоваримый вид можно воспользоваться методом `__str__()`:"
   ]
  },
  {
   "cell_type": "code",
   "execution_count": 5,
   "metadata": {},
   "outputs": [
    {
     "name": "stdout",
     "output_type": "stream",
     "text": [
      "Гендальф\n"
     ]
    }
   ],
   "source": [
    "class LOTRFigures:\n",
    "\n",
    "    def __init__(self, name, description):\n",
    "        self.name = name\n",
    "        self.description = description\n",
    "\n",
    "    def describe_figure(self):\n",
    "        msg = f\"{self.name}: {self.description}\"\n",
    "        print(msg)\n",
    "    \n",
    "    def __str__(self):\n",
    "        return self.name\n",
    "\n",
    "figure = LOTRFigures(\"Гендальф\", \"высокий, серобородый, добродушный\")\n",
    "print(figure)"
   ]
  },
  {
   "cell_type": "markdown",
   "metadata": {},
   "source": [
    "## Метод `__repr__()`"
   ]
  },
  {
   "cell_type": "markdown",
   "metadata": {},
   "source": [
    "Добавим метод `__repr__` в нашу реализацию класса `LOTRFigures`"
   ]
  },
  {
   "cell_type": "code",
   "execution_count": 14,
   "metadata": {},
   "outputs": [
    {
     "name": "stdout",
     "output_type": "stream",
     "text": [
      "Гендальф\n"
     ]
    },
    {
     "data": {
      "text/plain": [
       "'LOTRFigures(name=Гендальф, description=высокий, серобородый, добродушный)'"
      ]
     },
     "execution_count": 14,
     "metadata": {},
     "output_type": "execute_result"
    }
   ],
   "source": [
    "class LOTRFigures:\n",
    "\n",
    "    def __init__(self, name, description):\n",
    "        self.name = name\n",
    "        self.description = description\n",
    "\n",
    "    def describe_figure(self):\n",
    "        msg = f\"{self.name}: {self.description}\"\n",
    "        print(msg)\n",
    "    \n",
    "    def __str__(self):\n",
    "        return self.name\n",
    "\n",
    "    def __repr__(self):\n",
    "        if self.description:\n",
    "            return (f\"LOTRFigures(name={self.name}, \"\n",
    "                    f\"description={self.description})\")\n",
    "        else:\n",
    "            return(f\"LOTRFigures(name={self.name})\")\n",
    "\n",
    "figure = LOTRFigures(\"Гендальф\", \"высокий, серобородый, добродушный\")\n",
    "print(figure)\n",
    "repr(figure)"
   ]
  },
  {
   "cell_type": "markdown",
   "metadata": {},
   "source": [
    "Как видно выше, функция `print()` по-прежнему выводит только имя экземпляра, т.к. такое поведение задано по умолчанию. Однако теперь с реализацией метода `__repr__` появилась возможность вывести заранее подготовленный способ репрезентации объекта."
   ]
  }
 ],
 "metadata": {
  "kernelspec": {
   "display_name": ".venv",
   "language": "python",
   "name": "python3"
  },
  "language_info": {
   "codemirror_mode": {
    "name": "ipython",
    "version": 3
   },
   "file_extension": ".py",
   "mimetype": "text/x-python",
   "name": "python",
   "nbconvert_exporter": "python",
   "pygments_lexer": "ipython3",
   "version": "3.11.5"
  }
 },
 "nbformat": 4,
 "nbformat_minor": 2
}

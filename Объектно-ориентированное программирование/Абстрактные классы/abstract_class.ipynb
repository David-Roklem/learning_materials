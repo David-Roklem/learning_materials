{
 "cells": [
  {
   "cell_type": "markdown",
   "metadata": {},
   "source": [
    "# Абстрактные классы и методы"
   ]
  },
  {
   "cell_type": "markdown",
   "metadata": {},
   "source": [
    "**Абстрактный класс** - это класс, который не предназначен для создания объектов напрямую. Он является классом-шаблоном для других классов и определяет абстрактные методы, которые должны быть реализованы в дочерних классах. \n",
    "\n",
    "Абстрактный класс является абстракцией того, что должны делать его наследники, но не определяет, как именно это должно быть сделано.\n",
    "\n",
    "**Абстрактный метод** - это метод, который объявлен в абстрактном классе, но не имеет реализации. Он служит как бы шаблоном для метода, который должен быть реализован в подклассах. \n",
    "\n",
    "В Python абстрактные классы реализуются с помощью модуля `abc` (аббревиатура от Abstract Base Classes). Для создания абстрактного класса нам понадобится класс `ABC`, а для создания абстрактного метода - декоратор `abstractmethod`. Оба эти объекта импортируются из стандартного модуля `abc`"
   ]
  },
  {
   "cell_type": "code",
   "execution_count": 2,
   "metadata": {},
   "outputs": [],
   "source": [
    "from abc import ABC, abstractmethod\n",
    "\n",
    "class Shape(ABC):\n",
    "    @abstractmethod\n",
    "    def area(self):\n",
    "        pass\n",
    "\n",
    "    @abstractmethod\n",
    "    def perimeter(self):\n",
    "        pass"
   ]
  },
  {
   "cell_type": "markdown",
   "metadata": {},
   "source": [
    "В примере выше мы создали абстрактный класс `Shape` с двумя абстрактными методами `area` и `perimeter`. Тем самым мы создали абстракцию «Фигура», при помощи которой мы сможем создавать разные типы фигур, например, круг, прямоугольник, треугольник."
   ]
  },
  {
   "cell_type": "markdown",
   "metadata": {},
   "source": [
    "Если у абстрактного класса имеется абстрактный метод, мы не сможем создать экземпляр абстрактного класса:"
   ]
  },
  {
   "cell_type": "code",
   "execution_count": 3,
   "metadata": {},
   "outputs": [
    {
     "ename": "TypeError",
     "evalue": "Can't instantiate abstract class Shape with abstract methods area, perimeter",
     "output_type": "error",
     "traceback": [
      "\u001b[0;31m---------------------------------------------------------------------------\u001b[0m",
      "\u001b[0;31mTypeError\u001b[0m                                 Traceback (most recent call last)",
      "Cell \u001b[0;32mIn[3], line 13\u001b[0m\n\u001b[1;32m      8\u001b[0m     \u001b[38;5;129m@abstractmethod\u001b[39m\n\u001b[1;32m      9\u001b[0m     \u001b[38;5;28;01mdef\u001b[39;00m \u001b[38;5;21mperimeter\u001b[39m(\u001b[38;5;28mself\u001b[39m):\n\u001b[1;32m     10\u001b[0m         \u001b[38;5;28;01mpass\u001b[39;00m\n\u001b[0;32m---> 13\u001b[0m s \u001b[38;5;241m=\u001b[39m \u001b[43mShape\u001b[49m\u001b[43m(\u001b[49m\u001b[43m)\u001b[49m\n",
      "\u001b[0;31mTypeError\u001b[0m: Can't instantiate abstract class Shape with abstract methods area, perimeter"
     ]
    }
   ],
   "source": [
    "from abc import ABC, abstractmethod\n",
    "\n",
    "class Shape(ABC):\n",
    "    @abstractmethod\n",
    "    def area(self):\n",
    "        pass\n",
    "\n",
    "    @abstractmethod\n",
    "    def perimeter(self):\n",
    "        pass\n",
    "      \n",
    "\n",
    "s = Shape()"
   ]
  },
  {
   "cell_type": "markdown",
   "metadata": {},
   "source": [
    "Такой класс может использоваться только для наследования другими классами."
   ]
  },
  {
   "cell_type": "markdown",
   "metadata": {},
   "source": [
    "## Наследование абстрактных классов"
   ]
  },
  {
   "cell_type": "markdown",
   "metadata": {},
   "source": [
    "**Абстрактный класс** - это класс, который содержит один или несколько абстрактных методов. Он не может использоваться для создания объектов напрямую, но может быть использован в качестве класса-родителя для других классов.\n",
    "\n",
    "Класс, который наследует абстрактный класс, должен реализовать все его абстрактные методы, иначе он не будет создан.\n",
    "\n",
    "На примере, нашего класса `Shape` создадим несколько дочерних классов, в каждом из которых будут реализованы методы `area` и `perimeter`."
   ]
  },
  {
   "cell_type": "code",
   "execution_count": 15,
   "metadata": {},
   "outputs": [
    {
     "name": "stdout",
     "output_type": "stream",
     "text": [
      "Nothing\n",
      "None\n"
     ]
    }
   ],
   "source": [
    "from abc import ABC, abstractmethod\n",
    "\n",
    "class Shape(ABC):\n",
    "    @abstractmethod\n",
    "    def area(self):\n",
    "        pass\n",
    "\n",
    "    @abstractmethod\n",
    "    def perimeter(self):\n",
    "        pass\n",
    "\n",
    "class Circle(Shape):\n",
    "    def __init__(self, radius):\n",
    "        self.radius = radius\n",
    "\n",
    "    def area(self):\n",
    "        return 3.14 * self.radius * self.radius\n",
    "\n",
    "    def perimeter(self):\n",
    "        return 2 * 3.14 * self.radius\n",
    "\n",
    "class Rectangle(Shape):\n",
    "    def __init__(self, length, width):\n",
    "        self.length = length\n",
    "        self.width = width\n",
    "\n",
    "    def area(self):\n",
    "        return self.length * self.width\n",
    "\n",
    "    def perimeter(self):\n",
    "        return 2 * (self.length + self.width)\n",
    "    \n",
    "    def printer(self):\n",
    "        print('Nothing')\n",
    "\n",
    "\n",
    "s = Rectangle(4, 3)\n",
    "print(s.printer())"
   ]
  },
  {
   "cell_type": "markdown",
   "metadata": {},
   "source": [
    "Здесь мы создали два подкласса `Circle` и `Rectangle`, которые наследуются от абстрактного класса `Shape` и реализуют методы `area` и `perimeter`. В каждом подклассе своя реализация, так как площадь и периметр у этих фигур рассчитывается по разному."
   ]
  },
  {
   "cell_type": "markdown",
   "metadata": {},
   "source": [
    "## Сценарии применения абстрактных классов\n",
    "Можно выделить 2 основных случая применения данного паттерна программирования на Python:\n",
    "- Общий интерфейс\n",
    "- Устранение дублирования кода"
   ]
  },
  {
   "cell_type": "markdown",
   "metadata": {},
   "source": [
    "### Общий интерфейс"
   ]
  },
  {
   "cell_type": "markdown",
   "metadata": {},
   "source": [
    "Так зачем же нам нужны абстрактные методы? Наследование от абстрактных классов позволяет создавать классы, которые являются конкретными реализациями абстрактного класса. Это позволяет нам создавать классы, которые имеют общие методы и свойства, но могут реализовывать их по-разному.\n",
    "\n",
    "Абстрактные классы позволяют определить общий интерфейс для всех дочерних классов, которые будут использовать наш абстрактный класс. Все дочерние классы должны будут обязательно иметь реализацию каждого абстрактного метода, поэтому мы точно будем уверены, что во всех классах, созданных на основе абстрактного класса, будет иметься реализация абстрактных методов.\n",
    "\n",
    "Если не реализовать абстрактный метод в дочернем классе, возникнет ошибка при вызове класса:"
   ]
  },
  {
   "cell_type": "code",
   "execution_count": null,
   "metadata": {},
   "outputs": [],
   "source": [
    "from abc import ABC, abstractmethod\n",
    "\n",
    "class Shape(ABC):\n",
    "    @abstractmethod\n",
    "    def area(self):\n",
    "        pass\n",
    "\n",
    "    @abstractmethod\n",
    "    def perimeter(self):\n",
    "        pass\n",
    "\n",
    "class Circle(Shape):\n",
    "    def __init__(self, radius):\n",
    "        self.radius = radius\n",
    "\n",
    "    def area(self):\n",
    "        return 3.14 * self.radius * self.radius\n",
    "\n",
    "\n",
    "d = Circle(5)"
   ]
  },
  {
   "cell_type": "markdown",
   "metadata": {},
   "source": [
    "В примере выше мы не реализовали внутри класса `Circle` абстрактный метод `perimeter`, поэтому получили ошибку \n",
    "\n",
    "`TypeError: Can't instantiate abstract class Circle with abstract method perimeter`"
   ]
  },
  {
   "cell_type": "markdown",
   "metadata": {},
   "source": [
    "### Устранение дублирования кода"
   ]
  },
  {
   "cell_type": "markdown",
   "metadata": {},
   "source": [
    "Помимо общего интерфейса методов, абстрактные классы могут позволить избавиться от дублирования в коде. Это достигается за счет того, что они могут содержать как абстрактные методы (которые не имеют реализации) так и конкретные методы (которые имеют реализацию по умолчанию).\n",
    "\n",
    "Вот взгляните на классы ниже:"
   ]
  },
  {
   "cell_type": "code",
   "execution_count": null,
   "metadata": {},
   "outputs": [],
   "source": [
    "class Dog:\n",
    "    def __init__(self, name, age):\n",
    "        self.name = name\n",
    "        self.age = age\n",
    "\n",
    "    def make_sound(self):\n",
    "        return \"Woof!\"\n",
    "\n",
    "\n",
    "class Cat:\n",
    "    def __init__(self, name, age):\n",
    "        self.name = name\n",
    "        self.age = age\n",
    "\n",
    "    def make_sound(self):\n",
    "        return \"Meow!\"\n",
    "\n",
    "\n",
    "class Bird:\n",
    "    def __init__(self, name, age):\n",
    "        self.name = name\n",
    "        self.age = age\n",
    "        \n",
    "    def make_sound(self):\n",
    "        return \"Tweet!\""
   ]
  },
  {
   "cell_type": "markdown",
   "metadata": {},
   "source": [
    "Во всех этих классах есть один и тот же метод инициализации, в нем как раз мы и наблюдаем дублирование кода. Можно вынести инициализацию в базовый абстрактный класс вместе с реализацией. Также есть метод `make_sound` во всех классах, но реализация метода внутри каждого класса своя. Поэтому метод `make_sound` можно сделать абстрактным методом и оставить реализацию за дочерними классами. В итоге получим следующий код:"
   ]
  },
  {
   "cell_type": "code",
   "execution_count": 3,
   "metadata": {},
   "outputs": [
    {
     "name": "stdout",
     "output_type": "stream",
     "text": [
      "Sharik says Woof!\n",
      "Barsik says Meow!\n",
      "Kesha says Tweet!\n"
     ]
    }
   ],
   "source": [
    "from abc import ABC, abstractmethod\n",
    "\n",
    "\n",
    "class Animal(ABC):\n",
    "    def __init__(self, name, age):\n",
    "        self.name = name\n",
    "        self.age = age\n",
    "\n",
    "    @abstractmethod\n",
    "    def make_sound(self):\n",
    "        pass\n",
    "\n",
    "\n",
    "class Dog(Animal):\n",
    "    def make_sound(self):\n",
    "        return \"Woof!\"\n",
    "\n",
    "\n",
    "class Cat(Animal):\n",
    "    def make_sound(self):\n",
    "        return \"Meow!\"\n",
    "\n",
    "\n",
    "class Bird(Animal):\n",
    "    def make_sound(self):\n",
    "        return \"Tweet!\"\n",
    "\n",
    "\n",
    "def animal_sounds(animals):\n",
    "    for animal in animals:\n",
    "        print(animal.name + \" says \" + animal.make_sound())\n",
    "\n",
    "\n",
    "dog = Dog(\"Sharik\", 2)\n",
    "cat = Cat(\"Barsik\", 4)\n",
    "bird = Bird(\"Kesha\", 1)\n",
    "\n",
    "animal_sounds([dog, cat, bird])"
   ]
  }
 ],
 "metadata": {
  "kernelspec": {
   "display_name": ".venv",
   "language": "python",
   "name": "python3"
  },
  "language_info": {
   "codemirror_mode": {
    "name": "ipython",
    "version": 3
   },
   "file_extension": ".py",
   "mimetype": "text/x-python",
   "name": "python",
   "nbconvert_exporter": "python",
   "pygments_lexer": "ipython3",
   "version": "3.11.5"
  }
 },
 "nbformat": 4,
 "nbformat_minor": 2
}

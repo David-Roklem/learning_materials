{
 "cells": [
  {
   "cell_type": "markdown",
   "metadata": {},
   "source": [
    "# Итераторы и генераторы\n",
    "##### Итераторы - это специальные объекты, которые позволяют получать элементы коллекции один за другим, без необходимости знать внутреннюю структуру данных."
   ]
  },
  {
   "cell_type": "code",
   "execution_count": 1,
   "metadata": {},
   "outputs": [
    {
     "name": "stdout",
     "output_type": "stream",
     "text": [
      "1\n",
      "2\n",
      "3\n"
     ]
    }
   ],
   "source": [
    "numbers = [1, 2, 3]\n",
    "for n in numbers:\n",
    "    print(n)\n",
    "    del n"
   ]
  },
  {
   "cell_type": "markdown",
   "metadata": {},
   "source": [
    "В коде выше приведен простейший пример итерирования по коллекции. Переменная `numbers` реализует протокол итератора, так как является итерируемым объектом. Иными словами, интерпретатор Python, натолкнувшись на ключевое слово `for`, создаст итератор и подставит его вместо `numbers`. Списки, строки, кортежи, словари, файлы - все это коллекции данных и в то же время итерируемые объекты.\n",
    "\n",
    "Итератор — это то, что можно получить из итерируемого объекта. Мы можем сказать, что итератор — это тип, позволяющий реализовать поток данных и представляющий средства для прохода по нему. В Python итератором является любой объект, реализующий протокол итераторов, который должен содержать в себе два метода: __iter()__ и __next()__. Метод __iter()__ должен возвращать итератор. Метод __next()__ — следующий элемент потока данных."
   ]
  },
  {
   "cell_type": "code",
   "execution_count": 13,
   "metadata": {},
   "outputs": [
    {
     "name": "stdout",
     "output_type": "stream",
     "text": [
      "<class 'list'>\n",
      "<class 'list_iterator'>\n",
      "1\n",
      "2\n",
      "3\n"
     ]
    },
    {
     "ename": "StopIteration",
     "evalue": "",
     "output_type": "error",
     "traceback": [
      "\u001b[0;31m---------------------------------------------------------------------------\u001b[0m",
      "\u001b[0;31mStopIteration\u001b[0m                             Traceback (most recent call last)",
      "Cell \u001b[0;32mIn[13], line 8\u001b[0m\n\u001b[1;32m      6\u001b[0m \u001b[38;5;28mprint\u001b[39m(word_iterator\u001b[38;5;241m.\u001b[39m\u001b[38;5;21m__next__\u001b[39m())\n\u001b[1;32m      7\u001b[0m \u001b[38;5;28mprint\u001b[39m(word_iterator\u001b[38;5;241m.\u001b[39m\u001b[38;5;21m__next__\u001b[39m())\n\u001b[0;32m----> 8\u001b[0m \u001b[38;5;28mprint\u001b[39m(\u001b[43mword_iterator\u001b[49m\u001b[38;5;241;43m.\u001b[39;49m\u001b[38;5;21;43m__next__\u001b[39;49m\u001b[43m(\u001b[49m\u001b[43m)\u001b[49m)\n",
      "\u001b[0;31mStopIteration\u001b[0m: "
     ]
    }
   ],
   "source": [
    "word = [1, 2, 3]  # Другие примеры: строка - 'ABC'; словарь - {'A': 1, 'B': 2, 'C': 3}\n",
    "print(type(word))\n",
    "word_iterator = word.__iter__()\n",
    "print(type(word_iterator))\n",
    "print(word_iterator.__next__())\n",
    "print(word_iterator.__next__())\n",
    "print(word_iterator.__next__())\n",
    "print(word_iterator.__next__())  # Как только итератор попытается вызвать метод __next__() для несуществующего\n",
    "                                 # элемента, будет выброшено исключение `StopIteration`"
   ]
  },
  {
   "cell_type": "code",
   "execution_count": 22,
   "metadata": {},
   "outputs": [
    {
     "name": "stdout",
     "output_type": "stream",
     "text": [
      "0\n",
      "1\n",
      "4\n",
      "0\n"
     ]
    }
   ],
   "source": [
    "r = (i**2 for i in range(10))\n",
    "r_2 = (i**2 for i in range(10))\n",
    "\n",
    "for i in r:\n",
    "    print(i)\n",
    "    if i >3:\n",
    "        break\n",
    "print(next(r_2))"
   ]
  }
 ],
 "metadata": {
  "kernelspec": {
   "display_name": ".venv",
   "language": "python",
   "name": "python3"
  },
  "language_info": {
   "codemirror_mode": {
    "name": "ipython",
    "version": 3
   },
   "file_extension": ".py",
   "mimetype": "text/x-python",
   "name": "python",
   "nbconvert_exporter": "python",
   "pygments_lexer": "ipython3",
   "version": "3.11.5"
  }
 },
 "nbformat": 4,
 "nbformat_minor": 2
}

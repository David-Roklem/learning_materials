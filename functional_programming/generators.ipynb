{
 "cells": [
  {
   "cell_type": "markdown",
   "metadata": {},
   "source": [
    "# Генераторы"
   ]
  },
  {
   "cell_type": "markdown",
   "metadata": {},
   "source": [
    "Понятие генератора тесно связано с сущностью [итератора](iterator_and_generator.ipynb). Генератор в Python — это специальная функция, которая возвращает итератор, с помощью которого можно обойти некоторую последовательность значений. Отличительная особенность генератора от итератора в том, что он не только возвращает данные поэлементно, но также их генерирует в процессе итерирования (обхода). Такое отложенное создание результата в процессе обхода элементов является основным преимуществом генераторов."
   ]
  },
  {
   "cell_type": "markdown",
   "metadata": {},
   "source": [
    "Для начала рассмотрим пример генераторного выражения, которое очень схоже со списковым включением (list comprehension или генератор списков):"
   ]
  },
  {
   "cell_type": "code",
   "execution_count": 1,
   "metadata": {},
   "outputs": [
    {
     "name": "stdout",
     "output_type": "stream",
     "text": [
      "<generator object <genexpr> at 0x7fcc75fbe810>\n",
      "0\n",
      "1\n",
      "4\n",
      "9\n"
     ]
    }
   ],
   "source": [
    "squares = (i**2 for i in range(100))\n",
    "print(squares)\n",
    "\n",
    "for sq in squares:\n",
    "    print(sq)\n",
    "    if sq > 5:\n",
    "        break"
   ]
  },
  {
   "cell_type": "markdown",
   "metadata": {},
   "source": [
    "Как видно выше, переменная `squares` не является списком (являлась бы, если вместо круглых скобок стояли квадратные - `[i**2 for i in range(100)]`). Вывод нам подсказывает: переменная `squares` - это объект генератора \"genexpr\", т.е. генераторное выражение, что означает, что интерпретатор, дойдя до данной строчки кода, не сразу вычислит результат выражения, а как бы отложит его до того момента, когда мы его об этом попросим. В примере выше \"просьбой\" является цикл `for`, во время которого будет происходить итерирование по элементам генератора с одновременным генерированием значений."
   ]
  },
  {
   "cell_type": "code",
   "execution_count": 2,
   "metadata": {},
   "outputs": [
    {
     "name": "stdout",
     "output_type": "stream",
     "text": [
      "16\n",
      "<generator object <genexpr> at 0x7fcc75fbe810>\n"
     ]
    }
   ],
   "source": [
    "print(next(squares))\n",
    "print(squares)"
   ]
  },
  {
   "cell_type": "markdown",
   "metadata": {},
   "source": [
    "Другим примером \"просьбы\" является вызов функции `next` от генератора. Поскольку при предыдущем итерировании последним выведенным в консоль элементом являлось выражение `3**2`, что было запомнено генератором (он, как и итератор, запоминает текущее состояние), то при вызове следующего элемента будет сгенерирован и выведен в консоль результат выражения `4**2`."
   ]
  },
  {
   "cell_type": "markdown",
   "metadata": {},
   "source": [
    "Создание генератора через генераторное выражение - не единственный способ его реализации. В общем случае, генератором является любая функция, в которой вместо возврата значений через `return` применяется ключевое `yield`. Последнее близко по смыслу к обычному `return`, но разница все же есть и заключается она в том, что `yield` используется для возврата из функции с сохранением состояния ее локальных переменных. При повторном вызове такой функции выполнение продолжается с оператора `yield`, на котором ее работа была прервана. Любая функция, содержащая упомянутое ключевое слово, называется генератором."
   ]
  },
  {
   "cell_type": "markdown",
   "metadata": {},
   "source": [
    "Рассмотрим пример реализации простейшего генератора:"
   ]
  },
  {
   "cell_type": "code",
   "execution_count": 15,
   "metadata": {},
   "outputs": [
    {
     "name": "stdout",
     "output_type": "stream",
     "text": [
      "<generator object gen at 0x7fd4f23c35e0>\n"
     ]
    }
   ],
   "source": [
    "def gen():\n",
    "    for i in range(1, 3):\n",
    "        yield i\n",
    "\n",
    "print(gen())"
   ]
  },
  {
   "cell_type": "markdown",
   "metadata": {},
   "source": [
    "Как видно выше, вызов функции `gen()` не возвращает значение переменной `i`, вместо этого интерпретатор подсказывает нам, что данная функция является объектом генератора. Чтобы все же получить значения из нее, можно применять уже знакомую функцию `next()`:"
   ]
  },
  {
   "cell_type": "code",
   "execution_count": 20,
   "metadata": {},
   "outputs": [
    {
     "name": "stdout",
     "output_type": "stream",
     "text": [
      "1\n",
      "2\n"
     ]
    }
   ],
   "source": [
    "g = gen()\n",
    "print(next(g))\n",
    "print(next(g))\n"
   ]
  },
  {
   "cell_type": "markdown",
   "metadata": {},
   "source": [
    "Вопрос для самопроверки: а что произойдет, если к двух вызовам функции `print` в блоке выше добавить третий?"
   ]
  },
  {
   "cell_type": "code",
   "execution_count": 22,
   "metadata": {},
   "outputs": [
    {
     "ename": "StopIteration",
     "evalue": "",
     "output_type": "error",
     "traceback": [
      "\u001b[0;31m---------------------------------------------------------------------------\u001b[0m",
      "\u001b[0;31mStopIteration\u001b[0m                             Traceback (most recent call last)",
      "Cell \u001b[0;32mIn[22], line 1\u001b[0m\n\u001b[0;32m----> 1\u001b[0m \u001b[38;5;28mprint\u001b[39m(\u001b[38;5;28;43mnext\u001b[39;49m\u001b[43m(\u001b[49m\u001b[43mg\u001b[49m\u001b[43m)\u001b[49m)\n",
      "\u001b[0;31mStopIteration\u001b[0m: "
     ]
    }
   ],
   "source": [
    "print(next(g))"
   ]
  },
  {
   "cell_type": "markdown",
   "metadata": {},
   "source": [
    "Разумеется, возникнет исключение `StopIteration` :))"
   ]
  },
  {
   "cell_type": "markdown",
   "metadata": {},
   "source": [
    "Ключевое слово `yield`, в отличие от `return`, можно использовать несколько раз в рамках одной функции:"
   ]
  },
  {
   "cell_type": "code",
   "execution_count": 6,
   "metadata": {},
   "outputs": [
    {
     "name": "stdout",
     "output_type": "stream",
     "text": [
      "<generator object get_names at 0x7f724d6c7400>\n",
      "printing 1 name\n",
      "Boris\n",
      "printing 2 name\n",
      "Morris\n"
     ]
    }
   ],
   "source": [
    "def get_names():\n",
    "    print(\"printing 1 name\")\n",
    "    yield \"Boris\"\n",
    "    print(\"printing 2 name\")\n",
    "    yield \"Morris\"\n",
    "\n",
    "\n",
    "names = get_names()\n",
    "print(names)\n",
    "print(next(names))\n",
    "print(next(names))"
   ]
  },
  {
   "cell_type": "markdown",
   "metadata": {},
   "source": [
    "Тот же самый функционал можно реализовать несколько иначе:"
   ]
  },
  {
   "cell_type": "code",
   "execution_count": 11,
   "metadata": {},
   "outputs": [
    {
     "name": "stdout",
     "output_type": "stream",
     "text": [
      "Boris\n",
      "Morris\n",
      "Bob\n"
     ]
    }
   ],
   "source": [
    "def get_names(*names):\n",
    "    for name in names:\n",
    "        yield name\n",
    "\n",
    "\n",
    "gen = get_names(\"Boris\", \"Morris\", \"Bob\")\n",
    "print(next(gen))\n",
    "print(next(gen))\n",
    "print(next(gen))"
   ]
  },
  {
   "cell_type": "markdown",
   "metadata": {},
   "source": [
    "P.S. за счет записи переменной `names` со звёздочкой перед ее именем, можно передавать в функцию `get_names` произвольное кол-во позиционных аргументов."
   ]
  }
 ],
 "metadata": {
  "kernelspec": {
   "display_name": ".venv",
   "language": "python",
   "name": "python3"
  },
  "language_info": {
   "codemirror_mode": {
    "name": "ipython",
    "version": 3
   },
   "file_extension": ".py",
   "mimetype": "text/x-python",
   "name": "python",
   "nbconvert_exporter": "python",
   "pygments_lexer": "ipython3",
   "version": "3.11.5"
  }
 },
 "nbformat": 4,
 "nbformat_minor": 2
}

{
 "cells": [
  {
   "cell_type": "markdown",
   "metadata": {},
   "source": [
    "## Декораторы"
   ]
  },
  {
   "cell_type": "markdown",
   "metadata": {},
   "source": [
    "**Декоратор** - это некая функция-обертка, при помощи которой есть возможность дополнить или видоизменить логику другой (оборачиваемой или декорируемой) функции без внесения изменений в последнюю непосредственно. Рассмотрим пример простого декоратора:"
   ]
  },
  {
   "cell_type": "code",
   "execution_count": null,
   "metadata": {},
   "outputs": [
    {
     "name": "stdout",
     "output_type": "stream",
     "text": [
      "9.0\n"
     ]
    }
   ],
   "source": [
    "def to_float(func):\n",
    "    def inner(*args, **kwargs):\n",
    "        res = func(*args, **kwargs)\n",
    "        return float(res)\n",
    "    return inner\n",
    "\n",
    "def power(x: int, y: int):\n",
    "    \"\"\"Возводит 'x' в степень 'y'\"\"\"\n",
    "    return x**y\n",
    "\n",
    "power = to_float(power)  # теперь функция power как бы становится функцией to_float,\n",
    "                         # которая принимает первую в качестве аргумента\n",
    "print(power(3, 2))"
   ]
  },
  {
   "cell_type": "markdown",
   "metadata": {},
   "source": [
    "Есть и альтернативный способ реализации декорирования функции `power`, как показано ниже, с помощью символа \"@\":"
   ]
  },
  {
   "cell_type": "code",
   "execution_count": 6,
   "metadata": {},
   "outputs": [],
   "source": [
    "@to_float\n",
    "def power(x: int, y: int):\n",
    "    \"\"\"Возводит 'x' в степень 'y'\"\"\"\n",
    "    return x**y"
   ]
  },
  {
   "cell_type": "markdown",
   "metadata": {},
   "source": [
    "Это так называемый паттерн декоратора, который является \"синтаксическим сахаром\". Однако стоит помнить, что в случае использования паттерна, функция `power` при импортировании в другие части кодовой базы будет декорированной, т.е. утрати изначальную реализацию. Для того, чтобы этого не произошло, необходимо использовать вариант, обозначенный выше (`power = to_float(power)`) в том месте, где это требуется."
   ]
  }
 ],
 "metadata": {
  "kernelspec": {
   "display_name": ".venv",
   "language": "python",
   "name": "python3"
  },
  "language_info": {
   "codemirror_mode": {
    "name": "ipython",
    "version": 3
   },
   "file_extension": ".py",
   "mimetype": "text/x-python",
   "name": "python",
   "nbconvert_exporter": "python",
   "pygments_lexer": "ipython3",
   "version": "3.11.5"
  }
 },
 "nbformat": 4,
 "nbformat_minor": 2
}

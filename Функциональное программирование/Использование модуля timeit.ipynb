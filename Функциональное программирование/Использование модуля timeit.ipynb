{
 "cells": [
  {
   "cell_type": "markdown",
   "metadata": {},
   "source": [
    "# Модуль timeit используется для замеров скорости работы функций"
   ]
  },
  {
   "cell_type": "code",
   "execution_count": 12,
   "metadata": {},
   "outputs": [
    {
     "name": "stdout",
     "output_type": "stream",
     "text": [
      "0.8424189950000027\n",
      "0.14041550000001735\n"
     ]
    }
   ],
   "source": [
    "from timeit import timeit\n",
    "from math import pow\n",
    "\n",
    "\n",
    "def power(a, b):\n",
    "    return a ** b\n",
    "\n",
    "\n",
    "print(timeit(\n",
    "    stmt=\"power(2, 500)\",\n",
    "    globals={\"power\": power}\n",
    "))\n",
    "print(timeit(\n",
    "    stmt=\"pow(2, 500)\",\n",
    "    globals={\"pow\": pow}\n",
    "))\n",
    "# P.S. Для демонстрации того, что встроенные в Python функции работают быстрее и эффективнее, чем самописные"
   ]
  },
  {
   "cell_type": "code",
   "execution_count": 24,
   "metadata": {},
   "outputs": [
    {
     "name": "stdout",
     "output_type": "stream",
     "text": [
      "1.3120251959999223\n",
      "[1, 4, 243]\n"
     ]
    }
   ],
   "source": [
    "print(timeit(\n",
    "    stmt=\"[power(x, y) for x, y in zip([1, 2, 3], [15, 2, 5])]\",\n",
    "    globals={\"power\": power}\n",
    "))\n",
    "print([power(x, y) for x, y in zip([1, 2, 3], [15, 2, 5])])"
   ]
  }
 ],
 "metadata": {
  "kernelspec": {
   "display_name": ".venv",
   "language": "python",
   "name": "python3"
  },
  "language_info": {
   "codemirror_mode": {
    "name": "ipython",
    "version": 3
   },
   "file_extension": ".py",
   "mimetype": "text/x-python",
   "name": "python",
   "nbconvert_exporter": "python",
   "pygments_lexer": "ipython3",
   "version": "3.11.5"
  }
 },
 "nbformat": 4,
 "nbformat_minor": 2
}
